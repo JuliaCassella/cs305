{
 "cells": [
  {
   "cell_type": "markdown",
   "metadata": {},
   "source": [
    "## A very simple kind of adapter"
   ]
  },
  {
   "cell_type": "markdown",
   "metadata": {},
   "source": [
    "from Chapter 4 of the book: <a href=http://0-proquestcombo.safaribooksonline.com.sally.sandiego.edu/book/programming/python/9781783989324/mastering-python-design-patterns/ch04_html>Mastering Python Design Patterns</a>\n",
    "\n",
    "Imagine that we have an application in which we run\n",
    "\n",
    "    for obj in objects:\n",
    "          obj.execute()\n",
    "          \n",
    "Of course, each obj in the sequence has an `execute` method.          "
   ]
  },
  {
   "cell_type": "code",
   "execution_count": 1,
   "metadata": {
    "collapsed": false
   },
   "outputs": [
    {
     "name": "stdout",
     "output_type": "stream",
     "text": [
      "a Asus computer Using a Asus computer\n",
      "a HP computer Using a HP computer\n",
      "the Excel program executes a program\n",
      "the Emacs program executes a program\n"
     ]
    }
   ],
   "source": [
    "# adapter1.py\n",
    "class Program:\n",
    "    def __init__(self, name):\n",
    "        self.name = name\n",
    "\n",
    "    def __str__(self):\n",
    "        return 'the {} program'.format(self.name)\n",
    "\n",
    "    def execute(self):\n",
    "        return 'executes a program'\n",
    "\n",
    "class Computer:\n",
    "    def __init__(self, name):\n",
    "        self.name = name\n",
    "\n",
    "    def __str__(self):\n",
    "        return 'a {} computer'.format(self.name)\n",
    "\n",
    "    def execute(self):\n",
    "        return 'Using {}'.format(str(self))\n",
    "\n",
    "\n",
    "if __name__ == \"__main__\":\n",
    "\n",
    "    objects = [Computer('Asus'), Computer('HP'), Program('Excel'), Program('Emacs')]\n",
    "\n",
    "    for i in objects:\n",
    "        print('{} {}'.format(str(i), i.execute()))"
   ]
  },
  {
   "cell_type": "markdown",
   "metadata": {},
   "source": [
    "As our application evolves and expands, imagine that we would like to include in this loop objects that do not have an `execute` method.  I.e., we wish our loop to work with objects with **different interface** that do not work with our loop out of box.  In this simple example, we assume that such new objects have similarly functioning methods, just that they are not named `execute`.  The following are two such example objects:"
   ]
  },
  {
   "cell_type": "code",
   "execution_count": 2,
   "metadata": {
    "collapsed": true
   },
   "outputs": [],
   "source": [
    "# external.py\n",
    "class Synthesizer:\n",
    "    def __init__(self, name):\n",
    "        self.name = name\n",
    "\n",
    "    def __str__(self):\n",
    "        return 'the {} synthesizer'.format(self.name)\n",
    "\n",
    "    def play(self):\n",
    "        return str(self)\n",
    "\n",
    "class Human:\n",
    "    def __init__(self, name):\n",
    "        self.name = name\n",
    "\n",
    "    def __str__(self):\n",
    "        return '{} the human'.format(self.name)\n",
    "\n",
    "    def speak(self):\n",
    "        return str(self)"
   ]
  },
  {
   "cell_type": "markdown",
   "metadata": {},
   "source": [
    "You can see that simply including synthesizers and humans in the loop will raise exception.\n",
    "\n",
    "A naive way to integrate such new objects into the loop is to create an adapter for each such new object.  This is too much work, boring and not scalable.  See below."
   ]
  },
  {
   "cell_type": "code",
   "execution_count": 3,
   "metadata": {
    "collapsed": false
   },
   "outputs": [
    {
     "name": "stdout",
     "output_type": "stream",
     "text": [
      "Using a Asus\n",
      "Using a HP\n",
      "executes Excel\n",
      "executes Emacs\n",
      "the moog synthesizer\n",
      "Bob the human\n"
     ]
    }
   ],
   "source": [
    "\n",
    "#from external import Synthesizer, Human\n",
    "class Program:\n",
    "    def __init__(self, name):\n",
    "        self.name = name\n",
    "\n",
    "    def __str__(self):\n",
    "        return 'the {} program'.format(self.name)\n",
    "\n",
    "    def execute(self):\n",
    "        return 'executes {}'.format(self.name)\n",
    "\n",
    "class Computer:\n",
    "    def __init__(self, name):\n",
    "        self.name = name\n",
    "\n",
    "    def __str__(self):\n",
    "        return self.name\n",
    "\n",
    "    def execute(self):\n",
    "        return 'Using a {}'.format(self.name)\n",
    "\n",
    "class HumanAdapter:\n",
    "\n",
    "    def __init__(self, human):\n",
    "        self.human = human\n",
    "\n",
    "    def execute(self):\n",
    "        return self.human.speak()\n",
    "\n",
    "    def __str__(self):\n",
    "        return str(self.human)\n",
    "\n",
    "class SynthesizerAdapter:\n",
    "\n",
    "    def __init__(self, synthesizer):\n",
    "        self.synthesizer = synthesizer\n",
    "\n",
    "    def execute(self):\n",
    "        return self.synthesizer.play()\n",
    "\n",
    "    def __str__(self):\n",
    "        return str(self.synthesizer)\n",
    "    \n",
    "if __name__ == \"__main__\":\n",
    "    objects = [Computer('Asus'), Computer('HP'), Program('Excel'), Program('Emacs')]\n",
    "\n",
    "    synth = Synthesizer('moog')\n",
    "    s = SynthesizerAdapter(synth)\n",
    "    objects.append(s)\n",
    "\n",
    "    bob = Human('Bob')\n",
    "    bob = HumanAdapter(bob)\n",
    "    objects.append(bob)\n",
    "    \n",
    "    for i in objects:\n",
    "        print(i.execute())"
   ]
  },
  {
   "cell_type": "markdown",
   "metadata": {},
   "source": [
    "Just as in the case of **wrapper as proxy**, we create one wrapper class that is able to proxy any kind of objects, so now we are to provide a _universal_ adapter for all objects. "
   ]
  },
  {
   "cell_type": "code",
   "execution_count": 4,
   "metadata": {
    "collapsed": false
   },
   "outputs": [
    {
     "name": "stdout",
     "output_type": "stream",
     "text": [
      "{'execute': <bound method Human.speak of <__main__.Human object at 0x1064a8a90>>, '_obj': <__main__.Human object at 0x1064a8a90>}\n",
      "Using a Asus\n",
      "Using a HP\n",
      "executes Excel\n",
      "executes Emacs\n",
      "the moog synthesizer\n",
      "Bob the human\n"
     ]
    }
   ],
   "source": [
    "#from external import Synthesizer, Human\n",
    "\n",
    "class Program:\n",
    "    def __init__(self, name):\n",
    "        self.name = name\n",
    "\n",
    "    def __str__(self):\n",
    "        return 'the {} program'.format(self.name)\n",
    "\n",
    "    def execute(self):\n",
    "        return 'executes {}'.format(self.name)\n",
    "\n",
    "class Computer:\n",
    "    def __init__(self, name):\n",
    "        self.name = name\n",
    "\n",
    "    def __str__(self):\n",
    "        return self.name\n",
    "\n",
    "    def execute(self):\n",
    "        return 'Using a {}'.format(self.name)\n",
    "\n",
    "\"\"\"The Adapter only wraps the adaptee.  The obligation of the\n",
    "interface adaptation rests with the client during instantiation.\n",
    "That is, when instantiating, the client must provide the mapping:\n",
    "\n",
    "   method app uses (e.g., execute)-> wrapped object's method\n",
    "\n",
    "It is with this mapping that the adapter is able to connect the\n",
    "new interface with the old.\n",
    "\"\"\"\n",
    "\n",
    "class Adapter:\n",
    "    def __init__(self, obj, adapted_methods):\n",
    "    \n",
    "        self._obj = obj          # wraps the object \n",
    "        self.__dict__.update(adapted_methods) # provides the execute method\n",
    "\n",
    "    def __str__(self):\n",
    "        return str(self._obj)\n",
    "\n",
    "if __name__ == \"__main__\":\n",
    "    objects = [Computer('Asus'), Computer('HP'), Program('Excel'), Program('Emacs')]\n",
    "\n",
    "    synth = Synthesizer('moog')\n",
    "    s = Adapter(synth, dict(execute=synth.play))\n",
    "    objects.append(s)\n",
    "\n",
    "    bob = Human('Bob')\n",
    "    bob = Adapter(bob, dict(execute=bob.speak))\n",
    "    # bob = Adapter(bob, {'execute' : bob.speak})    \n",
    "    objects.append(bob)\n",
    "    print(vars(bob))\n",
    "    \n",
    "    for obj in objects:\n",
    "        print(obj.execute())"
   ]
  },
  {
   "cell_type": "markdown",
   "metadata": {},
   "source": [
    "Don't be fooled into thinking that you are reading some *totally new kind of code*.  You have seen this code in the second week of the semester, when we worked on HTMLgen, using a different syntax:  "
   ]
  },
  {
   "cell_type": "code",
   "execution_count": 5,
   "metadata": {
    "collapsed": false
   },
   "outputs": [
    {
     "name": "stdout",
     "output_type": "stream",
     "text": [
      "Using a Asus\n",
      "Using a HP\n",
      "executes Excel\n",
      "executes Emacs\n",
      "the moog synthesizer\n",
      "Bob the human\n"
     ]
    }
   ],
   "source": [
    "#from external import Synthesizer, Human\n",
    "\n",
    "class Program:\n",
    "    def __init__(self, name):\n",
    "        self.name = name\n",
    "\n",
    "    def __str__(self):\n",
    "        return 'the {} program'.format(self.name)\n",
    "\n",
    "    def execute(self):\n",
    "        return 'executes {}'.format(self.name)\n",
    "\n",
    "class Computer:\n",
    "    def __init__(self, name):\n",
    "        self.name = name\n",
    "\n",
    "    def __str__(self):\n",
    "        return self.name\n",
    "\n",
    "    def execute(self):\n",
    "        return 'Using a {}'.format(self.name)\n",
    "\n",
    "class Adapter:\n",
    "    def __init__(self, obj, **kw):\n",
    "        \"\"\" It is more natural to use keyword arguments \"\"\"\n",
    "        self._obj = obj\n",
    "        for method in kw:\n",
    "            setattr(self, method, kw[method])\n",
    "        \n",
    "    def __str__(self):\n",
    "        return str(self._obj)\n",
    "\n",
    "if __name__ == \"__main__\":\n",
    "    objects = [Computer('Asus'), Computer('HP'), Program('Excel'), Program('Emacs')]\n",
    "\n",
    "    synth = Synthesizer('moog')\n",
    "    s = Adapter(synth, execute=synth.play)\n",
    "    objects.append(s)\n",
    "\n",
    "    bob = Human('Bob')\n",
    "    bob = Adapter(bob, execute=bob.speak)\n",
    "    objects.append(bob)\n",
    "\n",
    "    for i in objects:\n",
    "        print(i.execute())\n"
   ]
  },
  {
   "cell_type": "markdown",
   "metadata": {},
   "source": [
    "Note that this code is similar to `ImmutableSet.__init__`:"
   ]
  },
  {
   "cell_type": "code",
   "execution_count": 6,
   "metadata": {
    "collapsed": true
   },
   "outputs": [],
   "source": [
    "class ImmutableSet:\n",
    "\n",
    "    def __init__(self, aList=[]):\n",
    "        s = ListSet(aList)\n",
    "        self.members = s.members\n",
    "        self.intersection = s.intersection"
   ]
  },
  {
   "cell_type": "markdown",
   "metadata": {},
   "source": [
    "In the eyes of a Java programmer, `__init__` is strange:  it defines no instance variables, and it defines no instance methods!"
   ]
  }
 ],
 "metadata": {
  "kernelspec": {
   "display_name": "Python 3",
   "language": "python",
   "name": "python3"
  },
  "language_info": {
   "codemirror_mode": {
    "name": "ipython",
    "version": 3
   },
   "file_extension": ".py",
   "mimetype": "text/x-python",
   "name": "python",
   "nbconvert_exporter": "python",
   "pygments_lexer": "ipython3",
   "version": "3.5.1"
  }
 },
 "nbformat": 4,
 "nbformat_minor": 0
}
