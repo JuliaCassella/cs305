{
 "cells": [
  {
   "cell_type": "markdown",
   "metadata": {},
   "source": [
    "## I will use Jupyter notebook to present my second example **HTMLgen**\n",
    "First, review of basics of Python's object model."
   ]
  },
  {
   "cell_type": "code",
   "execution_count": 70,
   "metadata": {
    "collapsed": true
   },
   "outputs": [],
   "source": [
    "class Student:\n",
    "    def __init__(self, name):\n",
    "        self.name = name"
   ]
  },
  {
   "cell_type": "code",
   "execution_count": 71,
   "metadata": {
    "collapsed": true
   },
   "outputs": [],
   "source": [
    "ethan = Student('Ethan')"
   ]
  },
  {
   "cell_type": "code",
   "execution_count": 72,
   "metadata": {
    "collapsed": false
   },
   "outputs": [
    {
     "data": {
      "text/plain": [
       "'Ethan'"
      ]
     },
     "execution_count": 72,
     "metadata": {},
     "output_type": "execute_result"
    }
   ],
   "source": [
    "ethan.name"
   ]
  },
  {
   "cell_type": "code",
   "execution_count": 73,
   "metadata": {
    "collapsed": false
   },
   "outputs": [],
   "source": [
    "# ethan.citizenship"
   ]
  },
  {
   "cell_type": "code",
   "execution_count": 74,
   "metadata": {
    "collapsed": true
   },
   "outputs": [],
   "source": [
    "mary = Student('Mary')"
   ]
  },
  {
   "cell_type": "code",
   "execution_count": 75,
   "metadata": {
    "collapsed": false
   },
   "outputs": [
    {
     "data": {
      "text/plain": [
       "'Mary'"
      ]
     },
     "execution_count": 75,
     "metadata": {},
     "output_type": "execute_result"
    }
   ],
   "source": [
    "mary.name"
   ]
  },
  {
   "cell_type": "code",
   "execution_count": 76,
   "metadata": {
    "collapsed": false
   },
   "outputs": [],
   "source": [
    "# mary.age"
   ]
  },
  {
   "cell_type": "code",
   "execution_count": 77,
   "metadata": {
    "collapsed": true
   },
   "outputs": [],
   "source": [
    "class Student:\n",
    "    citizenship = 'US'\n",
    "    def __init__(self, name):\n",
    "        self.name = name"
   ]
  },
  {
   "cell_type": "code",
   "execution_count": 78,
   "metadata": {
    "collapsed": true
   },
   "outputs": [],
   "source": [
    "eric = Student('Eric')"
   ]
  },
  {
   "cell_type": "code",
   "execution_count": 79,
   "metadata": {
    "collapsed": false
   },
   "outputs": [
    {
     "data": {
      "text/plain": [
       "'Eric'"
      ]
     },
     "execution_count": 79,
     "metadata": {},
     "output_type": "execute_result"
    }
   ],
   "source": [
    "eric.name"
   ]
  },
  {
   "cell_type": "code",
   "execution_count": 80,
   "metadata": {
    "collapsed": false
   },
   "outputs": [
    {
     "data": {
      "text/plain": [
       "{'name': 'Eric'}"
      ]
     },
     "execution_count": 80,
     "metadata": {},
     "output_type": "execute_result"
    }
   ],
   "source": [
    "vars(eric)"
   ]
  },
  {
   "cell_type": "code",
   "execution_count": 81,
   "metadata": {
    "collapsed": false
   },
   "outputs": [
    {
     "data": {
      "text/plain": [
       "'US'"
      ]
     },
     "execution_count": 81,
     "metadata": {},
     "output_type": "execute_result"
    }
   ],
   "source": [
    "eric.citizenship"
   ]
  },
  {
   "cell_type": "code",
   "execution_count": 82,
   "metadata": {
    "collapsed": false
   },
   "outputs": [
    {
     "data": {
      "text/plain": [
       "'/Users/lubyliao/cs305'"
      ]
     },
     "execution_count": 82,
     "metadata": {},
     "output_type": "execute_result"
    }
   ],
   "source": [
    "pwd"
   ]
  },
  {
   "cell_type": "code",
   "execution_count": 83,
   "metadata": {
    "collapsed": false
   },
   "outputs": [
    {
     "name": "stdout",
     "output_type": "stream",
     "text": [
      "[Errno 2] No such file or directory: 'cs305'\n",
      "/Users/lubyliao/cs305\n"
     ]
    }
   ],
   "source": [
    "cd cs305"
   ]
  },
  {
   "cell_type": "markdown",
   "metadata": {},
   "source": [
    "# First version of Href-gen: \n",
    "1. CS150 style \n",
    "1. All arguments are required\n",
    "1. Initializer simply uses arguments provided to eastablish the state of the Href instance\n",
    "1. All Href instances have the same set of six attributes"
   ]
  },
  {
   "cell_type": "code",
   "execution_count": 84,
   "metadata": {
    "collapsed": false
   },
   "outputs": [
    {
     "name": "stdout",
     "output_type": "stream",
     "text": [
      "class Href:\r\n",
      "\r\n",
      "    \"\"\"The first Href class.  Totally strightforward.  Totally boring\r\n",
      "    \"\"\"\r\n",
      "\r\n",
      "    def __init__(self,\r\n",
      "                 url,\r\n",
      "                 text,\r\n",
      "                 target,\r\n",
      "                 onClick,\r\n",
      "                 onMouseOver,\r\n",
      "                 onMouseOut):\r\n",
      "        self.url = url\r\n",
      "        self.text = text\r\n",
      "        self.target = target\r\n",
      "        self.onClick = onClick \r\n",
      "        self.onMouseOver = onMouseOver\r\n",
      "        self.onMouseOut = onMouseOut \r\n",
      "\r\n",
      "\r\n",
      "    def __str__(self):\r\n",
      "        s = ['<A HREF=\"%s\"' % self.url]\r\n",
      "        if self.target: s.append(' TARGET=\"%s\"' % self.target)\r\n",
      "        if self.onClick: s.append(' onClick=\"%s\"' % self.onClick)\r\n",
      "        if self.onMouseOver: s.append(' onMouseOver=\"%s\"' % self.onMouseOver)\r\n",
      "        if self.onMouseOut: s.append(' onMouseOut=\"%s\"' % self.onMouseOut)\r\n",
      "        s.append('>%s</A>' % self.text)\r\n",
      "        return ''.join(s)\r\n",
      "\r\n",
      "A = Href\r\n",
      "\r\n",
      "usd = Href('http://www.sandiego.edu',\r\n",
      "            'USD',\r\n",
      "            None,\r\n",
      "            None,\r\n",
      "            None,\r\n",
      "            None)\r\n",
      "\r\n",
      "mit = A('http://mit.edu',\r\n",
      "            'MIT',\r\n",
      "            '_blank',\r\n",
      "            None,\r\n",
      "            None,\r\n",
      "            None)\r\n",
      "\r\n",
      "\r\n",
      "print(usd)\r\n",
      "print(mit)\r\n"
     ]
    }
   ],
   "source": [
    "cat H_1.py"
   ]
  },
  {
   "cell_type": "code",
   "execution_count": 85,
   "metadata": {
    "collapsed": false
   },
   "outputs": [
    {
     "name": "stdout",
     "output_type": "stream",
     "text": [
      "<A HREF=\"http://www.sandiego.edu\">USD</A>\n",
      "<A HREF=\"http://mit.edu\" TARGET=\"_blank\">MIT</A>\n"
     ]
    }
   ],
   "source": [
    "run H_1.py"
   ]
  },
  {
   "cell_type": "code",
   "execution_count": 86,
   "metadata": {
    "collapsed": false
   },
   "outputs": [
    {
     "data": {
      "text/plain": [
       "{'onClick': None,\n",
       " 'onMouseOut': None,\n",
       " 'onMouseOver': None,\n",
       " 'target': None,\n",
       " 'text': 'USD',\n",
       " 'url': 'http://www.sandiego.edu'}"
      ]
     },
     "execution_count": 86,
     "metadata": {},
     "output_type": "execute_result"
    }
   ],
   "source": [
    "vars(usd)"
   ]
  },
  {
   "cell_type": "code",
   "execution_count": 87,
   "metadata": {
    "collapsed": false
   },
   "outputs": [
    {
     "data": {
      "text/plain": [
       "{'onClick': None,\n",
       " 'onMouseOut': None,\n",
       " 'onMouseOver': None,\n",
       " 'target': '_blank',\n",
       " 'text': 'MIT',\n",
       " 'url': 'http://mit.edu'}"
      ]
     },
     "execution_count": 87,
     "metadata": {},
     "output_type": "execute_result"
    }
   ],
   "source": [
    "vars(mit)"
   ]
  },
  {
   "cell_type": "code",
   "execution_count": 88,
   "metadata": {
    "collapsed": false
   },
   "outputs": [
    {
     "name": "stdout",
     "output_type": "stream",
     "text": [
      "6\n",
      "6\n"
     ]
    }
   ],
   "source": [
    "print(len(vars(usd))); print(len(vars(mit)))"
   ]
  },
  {
   "cell_type": "markdown",
   "metadata": {},
   "source": [
    "##### Even though clients are forces to provide all required arguments, they do not need to provide them positionally, which is very hard and error prone when the arguments are numerous.  This is because we may remember what arguments are required, but who can remember in what order they should be provided?   For example, we know that to create a link, we must provide the URL and link text, but I could never remember which comes first.\n",
    "\n",
    "Here is how you can call the initilizer by using keyword arguments:"
   ]
  },
  {
   "cell_type": "code",
   "execution_count": 89,
   "metadata": {
    "collapsed": false
   },
   "outputs": [
    {
     "name": "stdout",
     "output_type": "stream",
     "text": [
      "<A HREF=\"http://www.ucla.edu\">UCLA</A>\n"
     ]
    }
   ],
   "source": [
    "ucla = Href(onClick=None,\n",
    "            onMouseOut=None,\n",
    "            onMouseOver=None,\n",
    "            target=None,\n",
    "            text='UCLA',\n",
    "            url='http://www.ucla.edu')\n",
    "print(ucla)"
   ]
  },
  {
   "cell_type": "code",
   "execution_count": 90,
   "metadata": {
    "collapsed": false
   },
   "outputs": [
    {
     "data": {
      "text/plain": [
       "{'onClick': None,\n",
       " 'onMouseOut': None,\n",
       " 'onMouseOver': None,\n",
       " 'target': None,\n",
       " 'text': 'UCLA',\n",
       " 'url': 'http://www.ucla.edu'}"
      ]
     },
     "execution_count": 90,
     "metadata": {},
     "output_type": "execute_result"
    }
   ],
   "source": [
    "vars(ucla)"
   ]
  },
  {
   "cell_type": "code",
   "execution_count": 91,
   "metadata": {
    "collapsed": false
   },
   "outputs": [
    {
     "data": {
      "text/html": [
       "<A HREF=\"http://www.ucla.edu\">UCLA</A>"
      ],
      "text/plain": [
       "<IPython.core.display.HTML object>"
      ]
     },
     "execution_count": 91,
     "metadata": {},
     "output_type": "execute_result"
    }
   ],
   "source": [
    "from IPython.display import HTML\n",
    "HTML(str(ucla))"
   ]
  },
  {
   "cell_type": "markdown",
   "metadata": {},
   "source": [
    "## 2nd version  makes it drastically easier for clients to create Href instances by using default arguments\n",
    "If a function defines default arguments, then client code need not provide for such arguments.  If a function call does not provide a value for such arguments, then such arguments assume the default values."
   ]
  },
  {
   "cell_type": "code",
   "execution_count": 92,
   "metadata": {
    "collapsed": true
   },
   "outputs": [],
   "source": [
    "def f(x, y=10): return x+y"
   ]
  },
  {
   "cell_type": "code",
   "execution_count": 93,
   "metadata": {
    "collapsed": false
   },
   "outputs": [
    {
     "data": {
      "text/plain": [
       "30"
      ]
     },
     "execution_count": 93,
     "metadata": {},
     "output_type": "execute_result"
    }
   ],
   "source": [
    "f(10, 20)"
   ]
  },
  {
   "cell_type": "code",
   "execution_count": 94,
   "metadata": {
    "collapsed": false
   },
   "outputs": [
    {
     "data": {
      "text/plain": [
       "40"
      ]
     },
     "execution_count": 94,
     "metadata": {},
     "output_type": "execute_result"
    }
   ],
   "source": [
    "f(30)"
   ]
  },
  {
   "cell_type": "code",
   "execution_count": 95,
   "metadata": {
    "collapsed": false
   },
   "outputs": [
    {
     "data": {
      "text/plain": [
       "40"
      ]
     },
     "execution_count": 95,
     "metadata": {},
     "output_type": "execute_result"
    }
   ],
   "source": [
    "f(x=30)"
   ]
  },
  {
   "cell_type": "code",
   "execution_count": 96,
   "metadata": {
    "collapsed": false
   },
   "outputs": [
    {
     "data": {
      "text/plain": [
       "90"
      ]
     },
     "execution_count": 96,
     "metadata": {},
     "output_type": "execute_result"
    }
   ],
   "source": [
    "f(y=40, x=50)"
   ]
  },
  {
   "cell_type": "code",
   "execution_count": 97,
   "metadata": {
    "collapsed": false
   },
   "outputs": [],
   "source": [
    "# f(y=20)"
   ]
  },
  {
   "cell_type": "markdown",
   "metadata": {},
   "source": [
    "## 2nd version "
   ]
  },
  {
   "cell_type": "code",
   "execution_count": 98,
   "metadata": {
    "collapsed": false
   },
   "outputs": [
    {
     "name": "stdout",
     "output_type": "stream",
     "text": [
      "class Href:\r\n",
      "\r\n",
      "    \"\"\"The only difference between this and the previous version is that it\r\n",
      "    uses default arguments.\r\n",
      "\r\n",
      "    The definition of the initilizer remains hard to write and ugly,\r\n",
      "    but it becomes so much easier to call, because client code can omit\r\n",
      "    any arguments that it does not use.\r\n",
      "\r\n",
      "    The structure of the Href objects created using both versions remain unchanged.\r\n",
      "\r\n",
      "    Note that similar to Java, all Href instances have the same set\r\n",
      "    and same number of attributes, even when some are not being used.\r\n",
      "\r\n",
      "    Can this be avoided?  That is, is it possible for an instance to not have an\r\n",
      "    attribute that it does not really need, such as target?\r\n",
      "\r\n",
      "    \"\"\"\r\n",
      "\r\n",
      "    def __init__(self,\r\n",
      "                 url,\r\n",
      "                 text,\r\n",
      "                 target=None,\r\n",
      "                 onClick=None,\r\n",
      "                 onMouseOver=None,\r\n",
      "                 onMouseOut=None):\r\n",
      "\r\n",
      "        self.url = url\r\n",
      "        self.text = text\r\n",
      "        self.target = target\r\n",
      "        self.onClick = onClick \r\n",
      "        self.onMouseOver = onMouseOver\r\n",
      "        self.onMouseOut = onMouseOut \r\n",
      "\r\n",
      "    def __str__(self):\r\n",
      "        s = ['<A HREF=\"%s\"' % self.url]\r\n",
      "        if self.target: s.append(' TARGET=\"%s\"' % self.target)\r\n",
      "        if self.onClick: s.append(' onClick=\"%s\"' % self.onClick)\r\n",
      "        if self.onMouseOver: s.append(' onMouseOver=\"%s\"' % self.onMouseOver)\r\n",
      "        if self.onMouseOut: s.append(' onMouseOut=\"%s\"' % self.onMouseOut)\r\n",
      "        s.append('>%s</A>' % self.text)\r\n",
      "        return ''.join(s)\r\n",
      "\r\n",
      "    \r\n",
      "usd = Href(text='USD',\r\n",
      "            url='http://sandiego.edu')\r\n",
      "\r\n",
      "ucsd = Href(text='UCSD',\r\n",
      "            url='http://ucsd.edu',\r\n",
      "            target='_blank')\r\n",
      "\r\n",
      "print(usd); print(ucsd)\r\n",
      "print(vars(usd)); print(vars(ucsd))\r\n"
     ]
    }
   ],
   "source": [
    "cat H_2.py"
   ]
  },
  {
   "cell_type": "code",
   "execution_count": 99,
   "metadata": {
    "collapsed": false
   },
   "outputs": [
    {
     "name": "stdout",
     "output_type": "stream",
     "text": [
      "<A HREF=\"http://sandiego.edu\">USD</A>\n",
      "<A HREF=\"http://ucsd.edu\" TARGET=\"_blank\">UCSD</A>\n",
      "{'text': 'USD', 'onClick': None, 'onMouseOver': None, 'target': None, 'onMouseOut': None, 'url': 'http://sandiego.edu'}\n",
      "{'text': 'UCSD', 'onClick': None, 'onMouseOver': None, 'target': '_blank', 'onMouseOut': None, 'url': 'http://ucsd.edu'}\n"
     ]
    }
   ],
   "source": [
    "run H_2.py"
   ]
  },
  {
   "cell_type": "markdown",
   "metadata": {},
   "source": [
    "Notice how much relief the default arguments have brought the clients!  \n",
    "\n",
    "Unfortunately, all Href instances still must possess all attributes that a Href can legally have, even though an instance uses only a handful."
   ]
  },
  {
   "cell_type": "code",
   "execution_count": 100,
   "metadata": {
    "collapsed": false
   },
   "outputs": [
    {
     "name": "stdout",
     "output_type": "stream",
     "text": [
      "6\n",
      "6\n"
     ]
    }
   ],
   "source": [
    "print(len(vars(usd))); print(len(vars(ucsd)))"
   ]
  },
  {
   "cell_type": "markdown",
   "metadata": {},
   "source": [
    "## Problems with the second version of Hrefgen\n",
    "\n",
    "All Href instances have all the attributes that a Link should know about, but do not really use.  For example, `usd` has the attribute `target`, even though it does not use it.  `usd.target` holds a useless value `None`.  The big picture is that using such design, all HTMLElements collectively hold an enormous number of attributes that they do not use.  \n",
    "\n",
    "### Question: Is it possible to make a HTMLElement have just those attributes it actually use?\n",
    "\n",
    "See the following problem:"
   ]
  },
  {
   "cell_type": "markdown",
   "metadata": {
    "collapsed": true
   },
   "source": [
    "# Problem: \n",
    "\n",
    "**It is a fact that the great majority of USD students are US citizens**.  Write a `Student` class to (space-efficiently) model USD students so that `<student>.citizenship` evalutes to \"US\" (.e.g, `eric.citizenship` evaluates to `US`) for US citizens, but *mysteriously* such `Student`s do not need to have an attribute named `citizenship`.  "
   ]
  },
  {
   "cell_type": "code",
   "execution_count": 103,
   "metadata": {
    "collapsed": false
   },
   "outputs": [],
   "source": [
    "class Student:\n",
    "    citizenship = 'US'\n",
    "    def __init__(self, name, citizen='US'):\n",
    "        self.name = name\n",
    "        if citizen != 'US': # do not add citizenship attribute for US citizens\n",
    "            self.citizenship = citizen"
   ]
  },
  {
   "cell_type": "code",
   "execution_count": 104,
   "metadata": {
    "collapsed": true
   },
   "outputs": [],
   "source": [
    "yusef = Student('Yuself', \"Kuwait\")        "
   ]
  },
  {
   "cell_type": "code",
   "execution_count": 105,
   "metadata": {
    "collapsed": false
   },
   "outputs": [
    {
     "data": {
      "text/plain": [
       "{'citizenship': 'Kuwait', 'name': 'Yuself'}"
      ]
     },
     "execution_count": 105,
     "metadata": {},
     "output_type": "execute_result"
    }
   ],
   "source": [
    "vars(yusef)"
   ]
  },
  {
   "cell_type": "code",
   "execution_count": 108,
   "metadata": {
    "collapsed": false
   },
   "outputs": [],
   "source": [
    "eric = Student('Eric')"
   ]
  },
  {
   "cell_type": "code",
   "execution_count": 109,
   "metadata": {
    "collapsed": false
   },
   "outputs": [
    {
     "data": {
      "text/plain": [
       "{'name': 'Eric'}"
      ]
     },
     "execution_count": 109,
     "metadata": {},
     "output_type": "execute_result"
    }
   ],
   "source": [
    "vars(eric)"
   ]
  },
  {
   "cell_type": "code",
   "execution_count": 134,
   "metadata": {
    "collapsed": false
   },
   "outputs": [
    {
     "data": {
      "text/plain": [
       "'US'"
      ]
     },
     "execution_count": 134,
     "metadata": {},
     "output_type": "execute_result"
    }
   ],
   "source": [
    "eric.citizenship"
   ]
  },
  {
   "cell_type": "code",
   "execution_count": 110,
   "metadata": {
    "collapsed": false
   },
   "outputs": [
    {
     "data": {
      "text/plain": [
       "'/Users/lubyliao/cs305'"
      ]
     },
     "execution_count": 110,
     "metadata": {},
     "output_type": "execute_result"
    }
   ],
   "source": [
    "pwd"
   ]
  },
  {
   "cell_type": "code",
   "execution_count": 137,
   "metadata": {
    "collapsed": false
   },
   "outputs": [
    {
     "name": "stdout",
     "output_type": "stream",
     "text": [
      "\"\"\"In this third version, each instance has only attibutes that\r\n",
      "it actually need.\r\n",
      "\r\n",
      "An eye sore of this version is that the number of the if statements\r\n",
      "grows linearly as the number of the arguments.  So, in the case of\r\n",
      "the Table class, we might have 40+ if statements.\r\n",
      "\r\n",
      "\"\"\"\r\n",
      "\r\n",
      "class Href:\r\n",
      "\r\n",
      "    target=None\r\n",
      "    onClick=None\r\n",
      "    onMouseOver=None\r\n",
      "    onMouseOut=None\r\n",
      "\r\n",
      "    def __init__(self,\r\n",
      "                 url,\r\n",
      "                 text,\r\n",
      "                 target=None,\r\n",
      "                 onClick=None,\r\n",
      "                 onMouseOver=None,\r\n",
      "                 onMouseOut=None):\r\n",
      "        self.url = url\r\n",
      "        self.text = text\r\n",
      "        if target: self.target = target # Add target attribute only when it is used!\r\n",
      "        if onClick: self.onClick = onClick # Add onClick attribute only when it is used!\r\n",
      "        if onMouseOver:\r\n",
      "            self.onMouseOver = onMouseOver\r\n",
      "        if onMouseOut:\r\n",
      "            self.onMouseOut = onMouseOut \r\n",
      "\r\n",
      "    def __str__(self):\r\n",
      "        s = ['<A HREF=\"%s\"' % self.url]\r\n",
      "        if self.target: s.append(' TARGET=\"%s\"' % self.target)\r\n",
      "        if self.onClick: s.append(' onClick=\"%s\"' % self.onClick)\r\n",
      "        if self.onMouseOver: s.append(' onMouseOver=\"%s\"' % self.onMouseOver)\r\n",
      "        if self.onMouseOut: s.append(' onMouseOut=\"%s\"' % self.onMouseOut)\r\n",
      "        s.append('>%s</A>' % self.text)\r\n",
      "        return ''.join(s)\r\n",
      "\r\n",
      "ucsd = Href('UCSD', 'http://ucsd.edu', target='_blank')\r\n",
      "harvard = Href('Harvard University', 'http://harvard.edu')\r\n",
      "print(ucsd); print(harvard)\r\n",
      "print(vars(ucsd)); print(vars(harvard)) \r\n"
     ]
    }
   ],
   "source": [
    "cat H_3.py"
   ]
  },
  {
   "cell_type": "code",
   "execution_count": 147,
   "metadata": {
    "collapsed": false
   },
   "outputs": [
    {
     "name": "stdout",
     "output_type": "stream",
     "text": [
      "Overwriting H3.py\n"
     ]
    }
   ],
   "source": [
    "%%writefile H3.py\n",
    "\"\"\"In this third version, each instance has only attibutes that\n",
    "it actually need.\n",
    "\n",
    "An eye sore of this version is that the number of the if statements\n",
    "grows linearly as the number of the arguments.  So, in the case of\n",
    "the Table class, we might have 40+ if statements.\n",
    "\n",
    "\"\"\"\n",
    "\n",
    "class Href:\n",
    "\n",
    "    target=None\n",
    "    onClick=None\n",
    "    onMouseOver=None\n",
    "    onMouseOut=None\n",
    "\n",
    "    def __init__(self,\n",
    "                 url,\n",
    "                 text,\n",
    "                 target=None,\n",
    "                 onClick=None,\n",
    "                 onMouseOver=None,\n",
    "                 onMouseOut=None):\n",
    "        self.url = url\n",
    "        self.text = text\n",
    "        if target: self.target = target # Add target attribute only when it is used!\n",
    "        if onClick: self.onClick = onClick # Add onClick attribute only when it is used!\n",
    "        if onMouseOver:\n",
    "            self.onMouseOver = onMouseOver\n",
    "        if onMouseOut:\n",
    "            self.onMouseOut = onMouseOut \n",
    "\n",
    "    def __str__(self):\n",
    "        s = ['<A HREF=\"%s\"' % self.url]\n",
    "        if self.target: s.append(' TARGET=\"%s\"' % self.target)\n",
    "        if self.onClick: s.append(' onClick=\"%s\"' % self.onClick)\n",
    "        if self.onMouseOver: s.append(' onMouseOver=\"%s\"' % self.onMouseOver)\n",
    "        if self.onMouseOut: s.append(' onMouseOut=\"%s\"' % self.onMouseOut)\n",
    "        s.append('>%s</A>' % self.text)\n",
    "        return ''.join(s)\n",
    "\n",
    "ucsd = Href('UCSD', 'http://ucsd.edu', target='_blank')\n",
    "harvard = Href('Harvard University', 'http://harvard.edu')\n",
    "print(ucsd); print(harvard)\n",
    "print(vars(ucsd)); print(vars(harvard)) "
   ]
  },
  {
   "cell_type": "code",
   "execution_count": 148,
   "metadata": {
    "collapsed": false,
    "scrolled": true
   },
   "outputs": [
    {
     "name": "stdout",
     "output_type": "stream",
     "text": [
      "<A HREF=\"UCSD\" TARGET=\"_blank\">http://ucsd.edu</A>\n",
      "<A HREF=\"Harvard University\">http://harvard.edu</A>\n",
      "{'target': '_blank', 'text': 'http://ucsd.edu', 'url': 'UCSD'}\n",
      "{'text': 'http://harvard.edu', 'url': 'Harvard University'}\n"
     ]
    }
   ],
   "source": [
    "run H3.py"
   ]
  },
  {
   "cell_type": "markdown",
   "metadata": {},
   "source": [
    "## Problem with version 3 of Hrefgen\n",
    "\n",
    "For each *optional* attribute, the body of `__init__` has a corresponding `if` statement to decide whether to add the attrbiute to `self`'s namespace.  For complicated HTMLElement, such long string of `if` would be unberable.  The solution is to force client code to provide **optional keyword arguments** as the following sinple example shows. "
   ]
  },
  {
   "cell_type": "code",
   "execution_count": 117,
   "metadata": {
    "collapsed": true
   },
   "outputs": [],
   "source": [
    "def f(x, y, **kw):\n",
    "    print(kw)"
   ]
  },
  {
   "cell_type": "code",
   "execution_count": 118,
   "metadata": {
    "collapsed": false
   },
   "outputs": [
    {
     "name": "stdout",
     "output_type": "stream",
     "text": [
      "{}\n"
     ]
    }
   ],
   "source": [
    "f(1,2)"
   ]
  },
  {
   "cell_type": "code",
   "execution_count": 119,
   "metadata": {
    "collapsed": false
   },
   "outputs": [
    {
     "ename": "TypeError",
     "evalue": "f() takes 2 positional arguments but 3 were given",
     "output_type": "error",
     "traceback": [
      "\u001b[0;31m---------------------------------------------------------------------------\u001b[0m",
      "\u001b[0;31mTypeError\u001b[0m                                 Traceback (most recent call last)",
      "\u001b[0;32m<ipython-input-119-b61741968103>\u001b[0m in \u001b[0;36m<module>\u001b[0;34m()\u001b[0m\n\u001b[0;32m----> 1\u001b[0;31m \u001b[0mf\u001b[0m\u001b[0;34m(\u001b[0m\u001b[0;36m1\u001b[0m\u001b[0;34m,\u001b[0m\u001b[0;36m2\u001b[0m\u001b[0;34m,\u001b[0m\u001b[0;36m3\u001b[0m\u001b[0;34m)\u001b[0m\u001b[0;34m\u001b[0m\u001b[0m\n\u001b[0m",
      "\u001b[0;31mTypeError\u001b[0m: f() takes 2 positional arguments but 3 were given"
     ]
    }
   ],
   "source": [
    "f(1,2,3)"
   ]
  },
  {
   "cell_type": "code",
   "execution_count": 122,
   "metadata": {
    "collapsed": false
   },
   "outputs": [
    {
     "name": "stdout",
     "output_type": "stream",
     "text": [
      "{'hobby': 'Python', 'sex': 'M', 'age': 3}\n"
     ]
    }
   ],
   "source": [
    "f(y=3, x='abc', sex='M', age=3, hobby='Python')"
   ]
  },
  {
   "cell_type": "code",
   "execution_count": 123,
   "metadata": {
    "collapsed": false
   },
   "outputs": [
    {
     "name": "stdout",
     "output_type": "stream",
     "text": [
      "\"\"\"This is a quantum leap from the previous version.  Note that the long\r\n",
      "list of arguments in the definition of the initializer disappears, and\r\n",
      "so does the equally long block of the if statements.\r\n",
      "\r\n",
      "It is amazing that no matter how many attributes the class uses, the\r\n",
      "size of its initializer remains a constant.\r\n",
      "\"\"\"\r\n",
      "\r\n",
      "class Href:\r\n",
      "\r\n",
      "    target=None\r\n",
      "    onClick=None\r\n",
      "    onMouseOver=None\r\n",
      "    onMouseOut=None\r\n",
      "\r\n",
      "    def __init__(self,\r\n",
      "                 url,\r\n",
      "                 text,\r\n",
      "                 **kw):\r\n",
      "\r\n",
      "        self.url = url\r\n",
      "        self.text = text\r\n",
      "\r\n",
      "        for key in kw:\r\n",
      "            setattr(self, key, kw[key])\r\n",
      "\r\n",
      "    def __str__(self):\r\n",
      "        s = ['<A HREF=\"%s\"' % self.url]\r\n",
      "        if self.target: s.append(' TARGET=\"%s\"' % self.target)\r\n",
      "        if self.onClick: s.append(' onClick=\"%s\"' % self.onClick)\r\n",
      "        if self.onMouseOver: s.append(' onMouseOver=\"%s\"' % self.onMouseOver)\r\n",
      "        if self.onMouseOut: s.append(' onMouseOut=\"%s\"' % self.onMouseOut)\r\n",
      "        s.append('>%s</A>' % self.text)\r\n",
      "        return ''.join(s)\r\n",
      "\r\n",
      "ucsd = Href('UCSD', 'http://ucsd.edu', target='_blank')\r\n",
      "harvard = Href('Harvard University', 'http://harvard.edu')\r\n",
      "print(ucsd); print(harvard)\r\n",
      "print(vars(ucsd)); print(vars(harvard)) \r\n"
     ]
    }
   ],
   "source": [
    "cat H_4.py"
   ]
  },
  {
   "cell_type": "code",
   "execution_count": 124,
   "metadata": {
    "collapsed": false
   },
   "outputs": [
    {
     "name": "stdout",
     "output_type": "stream",
     "text": [
      "<A HREF=\"UCSD\" TARGET=\"_blank\">http://ucsd.edu</A>\n",
      "<A HREF=\"Harvard University\">http://harvard.edu</A>\n",
      "{'target': '_blank', 'text': 'http://ucsd.edu', 'url': 'UCSD'}\n",
      "{'text': 'http://harvard.edu', 'url': 'Harvard University'}\n"
     ]
    }
   ],
   "source": [
    "run H_4.py"
   ]
  },
  {
   "cell_type": "code",
   "execution_count": 131,
   "metadata": {
    "collapsed": true
   },
   "outputs": [],
   "source": [
    "ucla = Href(url='http://ucla.edu', text='UCLA', target='_blank', hobby='beer',\n",
    "           likes='football')"
   ]
  },
  {
   "cell_type": "code",
   "execution_count": 132,
   "metadata": {
    "collapsed": false
   },
   "outputs": [
    {
     "name": "stdout",
     "output_type": "stream",
     "text": [
      "<A HREF=\"http://ucla.edu\" TARGET=\"_blank\">UCLA</A>\n"
     ]
    }
   ],
   "source": [
    "print(ucla)"
   ]
  },
  {
   "cell_type": "code",
   "execution_count": 133,
   "metadata": {
    "collapsed": false
   },
   "outputs": [
    {
     "data": {
      "text/plain": [
       "{'hobby': 'beer',\n",
       " 'likes': 'football',\n",
       " 'target': '_blank',\n",
       " 'text': 'UCLA',\n",
       " 'url': 'http://ucla.edu'}"
      ]
     },
     "execution_count": 133,
     "metadata": {},
     "output_type": "execute_result"
    }
   ],
   "source": [
    "vars(ucla)"
   ]
  },
  {
   "cell_type": "markdown",
   "metadata": {},
   "source": [
    "## Above example shows that version 4 is not valid\n",
    "\n",
    "because it allows clients to introduce meaningless attributes, such as `hobby` for a `Href`.  This problem can be fixed by a one-liner."
   ]
  },
  {
   "cell_type": "markdown",
   "metadata": {},
   "source": [
    "# Please read my paper for versions 5 and 6\n",
    "\n",
    "# Next topic: modelling a polynomial (see github page)"
   ]
  }
 ],
 "metadata": {
  "kernelspec": {
   "display_name": "Python 3",
   "language": "python",
   "name": "python3"
  },
  "language_info": {
   "codemirror_mode": {
    "name": "ipython",
    "version": 3
   },
   "file_extension": ".py",
   "mimetype": "text/x-python",
   "name": "python",
   "nbconvert_exporter": "python",
   "pygments_lexer": "ipython3",
   "version": "3.5.1"
  }
 },
 "nbformat": 4,
 "nbformat_minor": 0
}
