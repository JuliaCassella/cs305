{
 "cells": [
  {
   "cell_type": "markdown",
   "metadata": {},
   "source": [
    "## I will use Jupyter notebook to present my second example **HTMLgen**\n",
    "First, review of basics of Python's object model."
   ]
  },
  {
   "cell_type": "code",
   "execution_count": 1,
   "metadata": {
    "collapsed": true
   },
   "outputs": [],
   "source": [
    "class Student:\n",
    "    def __init__(self, name):\n",
    "        self.name = name"
   ]
  },
  {
   "cell_type": "code",
   "execution_count": 2,
   "metadata": {
    "collapsed": true
   },
   "outputs": [],
   "source": [
    "ethan = Student('Ethan')"
   ]
  },
  {
   "cell_type": "code",
   "execution_count": 3,
   "metadata": {
    "collapsed": false
   },
   "outputs": [
    {
     "data": {
      "text/plain": [
       "'Ethan'"
      ]
     },
     "execution_count": 3,
     "metadata": {},
     "output_type": "execute_result"
    }
   ],
   "source": [
    "ethan.name"
   ]
  },
  {
   "cell_type": "code",
   "execution_count": 4,
   "metadata": {
    "collapsed": false
   },
   "outputs": [
    {
     "ename": "AttributeError",
     "evalue": "'Student' object has no attribute 'citizenship'",
     "output_type": "error",
     "traceback": [
      "\u001b[0;31m---------------------------------------------------------------------------\u001b[0m",
      "\u001b[0;31mAttributeError\u001b[0m                            Traceback (most recent call last)",
      "\u001b[0;32m<ipython-input-4-cb270ba2a837>\u001b[0m in \u001b[0;36m<module>\u001b[0;34m()\u001b[0m\n\u001b[0;32m----> 1\u001b[0;31m \u001b[0methan\u001b[0m\u001b[0;34m.\u001b[0m\u001b[0mcitizenship\u001b[0m\u001b[0;34m\u001b[0m\u001b[0m\n\u001b[0m",
      "\u001b[0;31mAttributeError\u001b[0m: 'Student' object has no attribute 'citizenship'"
     ]
    }
   ],
   "source": [
    "ethan.citizenship"
   ]
  },
  {
   "cell_type": "code",
   "execution_count": 5,
   "metadata": {
    "collapsed": true
   },
   "outputs": [],
   "source": [
    "mary = Student('Mary')"
   ]
  },
  {
   "cell_type": "code",
   "execution_count": 6,
   "metadata": {
    "collapsed": false
   },
   "outputs": [
    {
     "data": {
      "text/plain": [
       "'Mary'"
      ]
     },
     "execution_count": 6,
     "metadata": {},
     "output_type": "execute_result"
    }
   ],
   "source": [
    "mary.name"
   ]
  },
  {
   "cell_type": "code",
   "execution_count": 7,
   "metadata": {
    "collapsed": false
   },
   "outputs": [
    {
     "ename": "AttributeError",
     "evalue": "'Student' object has no attribute 'age'",
     "output_type": "error",
     "traceback": [
      "\u001b[0;31m---------------------------------------------------------------------------\u001b[0m",
      "\u001b[0;31mAttributeError\u001b[0m                            Traceback (most recent call last)",
      "\u001b[0;32m<ipython-input-7-7e733d541068>\u001b[0m in \u001b[0;36m<module>\u001b[0;34m()\u001b[0m\n\u001b[0;32m----> 1\u001b[0;31m \u001b[0mmary\u001b[0m\u001b[0;34m.\u001b[0m\u001b[0mage\u001b[0m\u001b[0;34m\u001b[0m\u001b[0m\n\u001b[0m",
      "\u001b[0;31mAttributeError\u001b[0m: 'Student' object has no attribute 'age'"
     ]
    }
   ],
   "source": [
    "mary.age"
   ]
  },
  {
   "cell_type": "code",
   "execution_count": 8,
   "metadata": {
    "collapsed": true
   },
   "outputs": [],
   "source": [
    "class Student:\n",
    "    citizenship = 'US'\n",
    "    def __init__(self, name):\n",
    "        self.name = name"
   ]
  },
  {
   "cell_type": "code",
   "execution_count": 9,
   "metadata": {
    "collapsed": true
   },
   "outputs": [],
   "source": [
    "eric = Student('Eric')"
   ]
  },
  {
   "cell_type": "code",
   "execution_count": 10,
   "metadata": {
    "collapsed": false
   },
   "outputs": [
    {
     "data": {
      "text/plain": [
       "'Eric'"
      ]
     },
     "execution_count": 10,
     "metadata": {},
     "output_type": "execute_result"
    }
   ],
   "source": [
    "eric.name"
   ]
  },
  {
   "cell_type": "code",
   "execution_count": 11,
   "metadata": {
    "collapsed": false
   },
   "outputs": [
    {
     "data": {
      "text/plain": [
       "{'name': 'Eric'}"
      ]
     },
     "execution_count": 11,
     "metadata": {},
     "output_type": "execute_result"
    }
   ],
   "source": [
    "vars(eric)"
   ]
  },
  {
   "cell_type": "code",
   "execution_count": 12,
   "metadata": {
    "collapsed": false
   },
   "outputs": [
    {
     "data": {
      "text/plain": [
       "'US'"
      ]
     },
     "execution_count": 12,
     "metadata": {},
     "output_type": "execute_result"
    }
   ],
   "source": [
    "eric.citizenship"
   ]
  },
  {
   "cell_type": "code",
   "execution_count": 13,
   "metadata": {
    "collapsed": false
   },
   "outputs": [
    {
     "data": {
      "text/plain": [
       "'/Users/lubyliao'"
      ]
     },
     "execution_count": 13,
     "metadata": {},
     "output_type": "execute_result"
    }
   ],
   "source": [
    "pwd"
   ]
  },
  {
   "cell_type": "code",
   "execution_count": 14,
   "metadata": {
    "collapsed": false
   },
   "outputs": [
    {
     "name": "stdout",
     "output_type": "stream",
     "text": [
      "/Users/lubyliao/cs305\n"
     ]
    }
   ],
   "source": [
    "cd cs305"
   ]
  },
  {
   "cell_type": "markdown",
   "metadata": {},
   "source": [
    "# First version of Href-gen: \n",
    "1. CS150 style \n",
    "1. All arguments are required\n",
    "1. Initializer simply uses arguments provided to eastablish the state of the Href instance\n",
    "1. All Href instances have the same set of six attributes"
   ]
  },
  {
   "cell_type": "code",
   "execution_count": 15,
   "metadata": {
    "collapsed": false
   },
   "outputs": [
    {
     "name": "stdout",
     "output_type": "stream",
     "text": [
      "class Href:\r\n",
      "\r\n",
      "    \"\"\"The first Href class.  Totally strightforward.  Totally boring\r\n",
      "    \"\"\"\r\n",
      "\r\n",
      "    def __init__(self,\r\n",
      "                 url,\r\n",
      "                 text,\r\n",
      "                 target,\r\n",
      "                 onClick,\r\n",
      "                 onMouseOver,\r\n",
      "                 onMouseOut):\r\n",
      "        self.url = url\r\n",
      "        self.text = text\r\n",
      "        self.target = target\r\n",
      "        self.onClick = onClick \r\n",
      "        self.onMouseOver = onMouseOver\r\n",
      "        self.onMouseOut = onMouseOut \r\n",
      "\r\n",
      "\r\n",
      "    def __str__(self):\r\n",
      "        s = ['<A HREF=\"%s\"' % self.url]\r\n",
      "        if self.target: s.append(' TARGET=\"%s\"' % self.target)\r\n",
      "        if self.onClick: s.append(' onClick=\"%s\"' % self.onClick)\r\n",
      "        if self.onMouseOver: s.append(' onMouseOver=\"%s\"' % self.onMouseOver)\r\n",
      "        if self.onMouseOut: s.append(' onMouseOut=\"%s\"' % self.onMouseOut)\r\n",
      "        s.append('>%s</A>' % self.text)\r\n",
      "        return ''.join(s)\r\n",
      "\r\n",
      "A = Href\r\n",
      "\r\n",
      "usd = Href('http://www.sandiego.edu',\r\n",
      "            'USD',\r\n",
      "            None,\r\n",
      "            None,\r\n",
      "            None,\r\n",
      "            None)\r\n",
      "\r\n",
      "mit = A('http://mit.edu',\r\n",
      "            'MIT',\r\n",
      "            '_blank',\r\n",
      "            None,\r\n",
      "            None,\r\n",
      "            None)\r\n",
      "\r\n",
      "\r\n",
      "print(usd)\r\n",
      "print(mit)\r\n"
     ]
    }
   ],
   "source": [
    "cat H_1.py"
   ]
  },
  {
   "cell_type": "code",
   "execution_count": 16,
   "metadata": {
    "collapsed": false
   },
   "outputs": [
    {
     "name": "stdout",
     "output_type": "stream",
     "text": [
      "<A HREF=\"http://www.sandiego.edu\">USD</A>\n",
      "<A HREF=\"http://mit.edu\" TARGET=\"_blank\">MIT</A>\n"
     ]
    }
   ],
   "source": [
    "run H_1.py"
   ]
  },
  {
   "cell_type": "code",
   "execution_count": 17,
   "metadata": {
    "collapsed": false
   },
   "outputs": [
    {
     "data": {
      "text/plain": [
       "{'onClick': None,\n",
       " 'onMouseOut': None,\n",
       " 'onMouseOver': None,\n",
       " 'target': None,\n",
       " 'text': 'USD',\n",
       " 'url': 'http://www.sandiego.edu'}"
      ]
     },
     "execution_count": 17,
     "metadata": {},
     "output_type": "execute_result"
    }
   ],
   "source": [
    "vars(usd)"
   ]
  },
  {
   "cell_type": "code",
   "execution_count": 18,
   "metadata": {
    "collapsed": false
   },
   "outputs": [
    {
     "data": {
      "text/plain": [
       "{'onClick': None,\n",
       " 'onMouseOut': None,\n",
       " 'onMouseOver': None,\n",
       " 'target': '_blank',\n",
       " 'text': 'MIT',\n",
       " 'url': 'http://mit.edu'}"
      ]
     },
     "execution_count": 18,
     "metadata": {},
     "output_type": "execute_result"
    }
   ],
   "source": [
    "vars(mit)"
   ]
  },
  {
   "cell_type": "code",
   "execution_count": 19,
   "metadata": {
    "collapsed": false
   },
   "outputs": [
    {
     "name": "stdout",
     "output_type": "stream",
     "text": [
      "6\n",
      "6\n"
     ]
    }
   ],
   "source": [
    "print(len(vars(usd))); print(len(vars(mit)))"
   ]
  },
  {
   "cell_type": "markdown",
   "metadata": {},
   "source": [
    "##### Even though clients are forces to provide all required arguments, they do not need to provide them positionally, which is very hard and error prone when the arguments are numerous.  This is because we may remember what arguments are required, but who can remember in what order they should be provided?   For example, we know that to create a link, we must provide the URL and link text, but I could never remember which comes first.\n",
    "\n",
    "Here is how you can call the initilizer by using keyword arguments:"
   ]
  },
  {
   "cell_type": "code",
   "execution_count": 22,
   "metadata": {
    "collapsed": false
   },
   "outputs": [
    {
     "name": "stdout",
     "output_type": "stream",
     "text": [
      "<A HREF=\"http://www.ucla.edu\">UCLA</A>\n"
     ]
    }
   ],
   "source": [
    "ucla = Href(onClick=None,\n",
    "            onMouseOut=None,\n",
    "            onMouseOver=None,\n",
    "            target=None,\n",
    "            text='UCLA',\n",
    "            url='http://www.ucla.edu')\n",
    "print(ucla)"
   ]
  },
  {
   "cell_type": "code",
   "execution_count": 23,
   "metadata": {
    "collapsed": false
   },
   "outputs": [
    {
     "data": {
      "text/plain": [
       "{'onClick': None,\n",
       " 'onMouseOut': None,\n",
       " 'onMouseOver': None,\n",
       " 'target': None,\n",
       " 'text': 'UCLA',\n",
       " 'url': 'http://www.ucla.edu'}"
      ]
     },
     "execution_count": 23,
     "metadata": {},
     "output_type": "execute_result"
    }
   ],
   "source": [
    "vars(ucla)"
   ]
  },
  {
   "cell_type": "code",
   "execution_count": 24,
   "metadata": {
    "collapsed": false
   },
   "outputs": [
    {
     "data": {
      "text/html": [
       "<A HREF=\"http://www.ucla.edu\">UCLA</A>"
      ],
      "text/plain": [
       "<IPython.core.display.HTML object>"
      ]
     },
     "execution_count": 24,
     "metadata": {},
     "output_type": "execute_result"
    }
   ],
   "source": [
    "from IPython.display import HTML\n",
    "HTML(str(ucla))"
   ]
  },
  {
   "cell_type": "markdown",
   "metadata": {},
   "source": [
    "## 2nd version  makes it drastically easier for clients to create Href instances by using default arguments\n",
    "If a function defines default arguments, then client code need not provide for such arguments.  If a function call does not provide a value for such arguments, then such arguments assume the default values."
   ]
  },
  {
   "cell_type": "code",
   "execution_count": 25,
   "metadata": {
    "collapsed": true
   },
   "outputs": [],
   "source": [
    "def f(x, y=10): return x+y"
   ]
  },
  {
   "cell_type": "code",
   "execution_count": 26,
   "metadata": {
    "collapsed": false
   },
   "outputs": [
    {
     "data": {
      "text/plain": [
       "30"
      ]
     },
     "execution_count": 26,
     "metadata": {},
     "output_type": "execute_result"
    }
   ],
   "source": [
    "f(10, 20)"
   ]
  },
  {
   "cell_type": "code",
   "execution_count": 27,
   "metadata": {
    "collapsed": false
   },
   "outputs": [
    {
     "data": {
      "text/plain": [
       "40"
      ]
     },
     "execution_count": 27,
     "metadata": {},
     "output_type": "execute_result"
    }
   ],
   "source": [
    "f(30)"
   ]
  },
  {
   "cell_type": "code",
   "execution_count": 28,
   "metadata": {
    "collapsed": false
   },
   "outputs": [
    {
     "data": {
      "text/plain": [
       "40"
      ]
     },
     "execution_count": 28,
     "metadata": {},
     "output_type": "execute_result"
    }
   ],
   "source": [
    "f(x=30)"
   ]
  },
  {
   "cell_type": "code",
   "execution_count": 30,
   "metadata": {
    "collapsed": false
   },
   "outputs": [
    {
     "data": {
      "text/plain": [
       "90"
      ]
     },
     "execution_count": 30,
     "metadata": {},
     "output_type": "execute_result"
    }
   ],
   "source": [
    "f(y=40, x=50)"
   ]
  },
  {
   "cell_type": "code",
   "execution_count": 31,
   "metadata": {
    "collapsed": false
   },
   "outputs": [
    {
     "ename": "TypeError",
     "evalue": "f() missing 1 required positional argument: 'x'",
     "output_type": "error",
     "traceback": [
      "\u001b[0;31m---------------------------------------------------------------------------\u001b[0m",
      "\u001b[0;31mTypeError\u001b[0m                                 Traceback (most recent call last)",
      "\u001b[0;32m<ipython-input-31-ba19dac3b987>\u001b[0m in \u001b[0;36m<module>\u001b[0;34m()\u001b[0m\n\u001b[0;32m----> 1\u001b[0;31m \u001b[0mf\u001b[0m\u001b[0;34m(\u001b[0m\u001b[0my\u001b[0m\u001b[0;34m=\u001b[0m\u001b[0;36m20\u001b[0m\u001b[0;34m)\u001b[0m\u001b[0;34m\u001b[0m\u001b[0m\n\u001b[0m",
      "\u001b[0;31mTypeError\u001b[0m: f() missing 1 required positional argument: 'x'"
     ]
    }
   ],
   "source": [
    "f(y=20)"
   ]
  },
  {
   "cell_type": "markdown",
   "metadata": {},
   "source": [
    "## 2nd version "
   ]
  },
  {
   "cell_type": "code",
   "execution_count": 32,
   "metadata": {
    "collapsed": false
   },
   "outputs": [
    {
     "name": "stdout",
     "output_type": "stream",
     "text": [
      "class Href:\r\n",
      "\r\n",
      "    \"\"\"The only difference between this and the previous version is that it\r\n",
      "    uses default arguments.\r\n",
      "\r\n",
      "    The definition of the initilizer remains hard to write and ugly,\r\n",
      "    but it becomes so much easier to call, because client code can omit\r\n",
      "    any arguments that it does not use.\r\n",
      "\r\n",
      "    The structure of the Href objects created using both versions remain unchanged.\r\n",
      "\r\n",
      "    Note that similar to Java, all Href instances have the same set\r\n",
      "    and same number of attributes, even when some are not being used.\r\n",
      "\r\n",
      "    Can this be avoided?  That is, is it possible for an instance to not have an\r\n",
      "    attribute that it does not really need, such as target?\r\n",
      "\r\n",
      "    \"\"\"\r\n",
      "\r\n",
      "    def __init__(self,\r\n",
      "                 url,\r\n",
      "                 text,\r\n",
      "                 target=None,\r\n",
      "                 onClick=None,\r\n",
      "                 onMouseOver=None,\r\n",
      "                 onMouseOut=None):\r\n",
      "\r\n",
      "        self.url = url\r\n",
      "        self.text = text\r\n",
      "        self.target = target\r\n",
      "        self.onClick = onClick \r\n",
      "        self.onMouseOver = onMouseOver\r\n",
      "        self.onMouseOut = onMouseOut \r\n",
      "\r\n",
      "    def __str__(self):\r\n",
      "        s = ['<A HREF=\"%s\"' % self.url]\r\n",
      "        if self.target: s.append(' TARGET=\"%s\"' % self.target)\r\n",
      "        if self.onClick: s.append(' onClick=\"%s\"' % self.onClick)\r\n",
      "        if self.onMouseOver: s.append(' onMouseOver=\"%s\"' % self.onMouseOver)\r\n",
      "        if self.onMouseOut: s.append(' onMouseOut=\"%s\"' % self.onMouseOut)\r\n",
      "        s.append('>%s</A>' % self.text)\r\n",
      "        return ''.join(s)\r\n",
      "\r\n",
      "    \r\n",
      "usd = Href(text='USD',\r\n",
      "            url='http://sandiego.edu')\r\n",
      "\r\n",
      "ucsd = Href(text='UCSD',\r\n",
      "            url='http://ucsd.edu',\r\n",
      "            target='_blank')\r\n",
      "\r\n",
      "print(usd); print(ucsd)\r\n",
      "print(vars(usd)); print(vars(ucsd))\r\n"
     ]
    }
   ],
   "source": [
    "cat H_2.py"
   ]
  },
  {
   "cell_type": "code",
   "execution_count": 33,
   "metadata": {
    "collapsed": false
   },
   "outputs": [
    {
     "name": "stdout",
     "output_type": "stream",
     "text": [
      "<A HREF=\"http://sandiego.edu\">USD</A>\n",
      "<A HREF=\"http://ucsd.edu\" TARGET=\"_blank\">UCSD</A>\n",
      "{'onClick': None, 'onMouseOver': None, 'url': 'http://sandiego.edu', 'text': 'USD', 'target': None, 'onMouseOut': None}\n",
      "{'onClick': None, 'onMouseOver': None, 'url': 'http://ucsd.edu', 'text': 'UCSD', 'target': '_blank', 'onMouseOut': None}\n"
     ]
    }
   ],
   "source": [
    "run H_2.py"
   ]
  },
  {
   "cell_type": "markdown",
   "metadata": {},
   "source": [
    "Notice how much relief the default arguments have brought the clients!  \n",
    "\n",
    "Unfortunately, all Href instances still must possess all attributes that a Href can legally have, even though an instance uses only a handful."
   ]
  },
  {
   "cell_type": "code",
   "execution_count": 35,
   "metadata": {
    "collapsed": false
   },
   "outputs": [
    {
     "name": "stdout",
     "output_type": "stream",
     "text": [
      "6\n",
      "6\n"
     ]
    }
   ],
   "source": [
    "print(len(vars(usd))); print(len(vars(ucsd)))"
   ]
  },
  {
   "cell_type": "markdown",
   "metadata": {},
   "source": [
    "## For versions 3-6 please read my paper on github "
   ]
  },
  {
   "cell_type": "code",
   "execution_count": null,
   "metadata": {
    "collapsed": true
   },
   "outputs": [],
   "source": []
  },
  {
   "cell_type": "code",
   "execution_count": null,
   "metadata": {
    "collapsed": true
   },
   "outputs": [],
   "source": []
  },
  {
   "cell_type": "code",
   "execution_count": null,
   "metadata": {
    "collapsed": true
   },
   "outputs": [],
   "source": []
  },
  {
   "cell_type": "code",
   "execution_count": null,
   "metadata": {
    "collapsed": true
   },
   "outputs": [],
   "source": []
  },
  {
   "cell_type": "code",
   "execution_count": null,
   "metadata": {
    "collapsed": true
   },
   "outputs": [],
   "source": []
  },
  {
   "cell_type": "code",
   "execution_count": null,
   "metadata": {
    "collapsed": true
   },
   "outputs": [],
   "source": []
  },
  {
   "cell_type": "code",
   "execution_count": null,
   "metadata": {
    "collapsed": true
   },
   "outputs": [],
   "source": []
  }
 ],
 "metadata": {
  "kernelspec": {
   "display_name": "Python 3",
   "language": "python",
   "name": "python3"
  },
  "language_info": {
   "codemirror_mode": {
    "name": "ipython",
    "version": 3
   },
   "file_extension": ".py",
   "mimetype": "text/x-python",
   "name": "python",
   "nbconvert_exporter": "python",
   "pygments_lexer": "ipython3",
   "version": "3.5.1"
  }
 },
 "nbformat": 4,
 "nbformat_minor": 0
}
