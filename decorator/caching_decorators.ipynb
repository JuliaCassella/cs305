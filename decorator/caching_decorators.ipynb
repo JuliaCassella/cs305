{
 "cells": [
  {
   "cell_type": "markdown",
   "metadata": {},
   "source": [
    "## First implementation: store cache in the enclosing scope of the wrapper function"
   ]
  },
  {
   "cell_type": "code",
   "execution_count": 2,
   "metadata": {
    "collapsed": false
   },
   "outputs": [
    {
     "name": "stdout",
     "output_type": "stream",
     "text": [
      "1063887467721366034773241589607300969338754108028802783023342188374708360698208971002440910085618509255043832759588753162705581482604835891067739816451104054196448910313767363259999214876196527034160759045008061321\n"
     ]
    }
   ],
   "source": [
    "def cached(f):\n",
    "    cache = {}\n",
    "    def wrapper(x):\n",
    "        try:\n",
    "            return cache[x]\n",
    "        except:\n",
    "            cache[x] = f(x)\n",
    "            return cache[x]\n",
    "    return wrapper\n",
    "\n",
    "@cached\n",
    "def fibo(n):\n",
    "    if (n==0) or (n==1):\n",
    "        return 1\n",
    "    else:\n",
    "        return fibo(n-1) + fibo(n-2)\n",
    "    \n",
    "for i in range(1000):\n",
    "    fibo(i)\n",
    "print(fibo(1020))"
   ]
  },
  {
   "cell_type": "markdown",
   "metadata": {},
   "source": [
    "Clearly, `cached(fibo)` wraps the function `f` and `cache` inside otherwise it could not access them.  But the wrapping is not as straightforward as a class instance wrapping instance variables, as in the 2nd implementation, as follows:"
   ]
  },
  {
   "cell_type": "markdown",
   "metadata": {},
   "source": [
    "## 2nd implementation: class decorator"
   ]
  },
  {
   "cell_type": "code",
   "execution_count": 3,
   "metadata": {
    "collapsed": false
   },
   "outputs": [
    {
     "name": "stdout",
     "output_type": "stream",
     "text": [
      "1063887467721366034773241589607300969338754108028802783023342188374708360698208971002440910085618509255043832759588753162705581482604835891067739816451104054196448910313767363259999214876196527034160759045008061321\n"
     ]
    }
   ],
   "source": [
    "class Cached:\n",
    "    def __init__(self, f):\n",
    "        self.f = f\n",
    "        self.cache = {}\n",
    "\n",
    "    def __call__(self, x):\n",
    "        try:\n",
    "            return self.cache[x]\n",
    "        except:\n",
    "            self.cache[x] = self.f(x)\n",
    "            return self.cache[x]\n",
    "        \n",
    "@Cached\n",
    "def fibo(n):\n",
    "    if (n==0) or (n==1):\n",
    "        return 1\n",
    "    else:\n",
    "        return fibo(n-1) + fibo(n-2)\n",
    "    \n",
    "for i in range(1000):\n",
    "    fibo(i)\n",
    "print(fibo(1020))"
   ]
  },
  {
   "cell_type": "markdown",
   "metadata": {},
   "source": [
    "## 3rd implementation: store cache as an attribute of the wrapper function "
   ]
  },
  {
   "cell_type": "code",
   "execution_count": 4,
   "metadata": {
    "collapsed": false
   },
   "outputs": [
    {
     "name": "stdout",
     "output_type": "stream",
     "text": [
      "1063887467721366034773241589607300969338754108028802783023342188374708360698208971002440910085618509255043832759588753162705581482604835891067739816451104054196448910313767363259999214876196527034160759045008061321\n"
     ]
    }
   ],
   "source": [
    "def cached(f):\n",
    "    def wrapper(x):\n",
    "        try:\n",
    "            return wrapper.cache[x]\n",
    "        except:\n",
    "            wrapper.cache[x] = f(x)\n",
    "            return wrapper.cache[x]\n",
    "    wrapper.cache = {}\n",
    "    return wrapper\n",
    "\n",
    "@cached\n",
    "def fibo(n):\n",
    "    if (n==0) or (n==1):\n",
    "        return 1\n",
    "    else:\n",
    "        return fibo(n-1) + fibo(n-2)\n",
    "    \n",
    "for i in range(1000):\n",
    "    fibo(i)\n",
    "print(fibo(1020))"
   ]
  }
 ],
 "metadata": {
  "kernelspec": {
   "display_name": "Python 3",
   "language": "python",
   "name": "python3"
  },
  "language_info": {
   "codemirror_mode": {
    "name": "ipython",
    "version": 3
   },
   "file_extension": ".py",
   "mimetype": "text/x-python",
   "name": "python",
   "nbconvert_exporter": "python",
   "pygments_lexer": "ipython3",
   "version": "3.5.1"
  }
 },
 "nbformat": 4,
 "nbformat_minor": 0
}
